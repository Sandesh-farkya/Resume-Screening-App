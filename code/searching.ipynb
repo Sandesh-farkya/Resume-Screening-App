{
 "cells": [
  {
   "cell_type": "code",
   "execution_count": 1,
   "id": "84466e2e",
   "metadata": {},
   "outputs": [
    {
     "name": "stdout",
     "output_type": "stream",
     "text": [
      "Element found at 3 index\n"
     ]
    }
   ],
   "source": [
    "            \n",
    "# def binary_search(arr, element):\n",
    "#     left = 0\n",
    "#     right = len(arr) - 1\n",
    "#     while left <= right:\n",
    "#         mid = left + (right - left) // 2\n",
    "#         if arr[mid] == element:\n",
    "#             return mid\n",
    "#         elif arr[mid] < element:\n",
    "#             left = mid + 1\n",
    "#         else:\n",
    "#             right = mid - 1\n",
    "#     return -1\n",
    "\n",
    "# result=binary_search([1, 2, 3, 4, 5],7)\n",
    "# if(result!=-1):\n",
    "#     print(\"Element found at index\", result)\n",
    "# else:\n",
    "#     print(\"Element not found in the array\")\n",
    "    \n",
    "\n",
    "\n",
    "def linear_Search(arr, element):\n",
    "    for i in range(len(arr)):\n",
    "        if arr[i] == element:\n",
    "            return i\n",
    "    return -1     \n",
    "\n",
    "result=linear_Search([1, 5, 3, 4, 5],4)\n",
    "if(result!=-1):\n",
    "    print(f\"Element found at {result} index\")\n",
    "else:\n",
    "    print(\"Element not found in the array\")"
   ]
  }
 ],
 "metadata": {
  "kernelspec": {
   "display_name": "Python 3",
   "language": "python",
   "name": "python3"
  },
  "language_info": {
   "codemirror_mode": {
    "name": "ipython",
    "version": 3
   },
   "file_extension": ".py",
   "mimetype": "text/x-python",
   "name": "python",
   "nbconvert_exporter": "python",
   "pygments_lexer": "ipython3",
   "version": "3.10.0"
  }
 },
 "nbformat": 4,
 "nbformat_minor": 5
}

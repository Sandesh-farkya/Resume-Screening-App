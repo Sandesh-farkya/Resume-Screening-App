{
 "cells": [
  {
   "cell_type": "code",
   "execution_count": 16,
   "id": "e49118aa",
   "metadata": {},
   "outputs": [
    {
     "name": "stdout",
     "output_type": "stream",
     "text": [
      "1 is an Armstrong number.\n"
     ]
    }
   ],
   "source": [
    "# Armstrong Number Checker\n",
    "\n",
    "num = int(input(\"Enter a number: \"))\n",
    "\n",
    "# Convert the number to string to find the number of digits\n",
    "num_str = str(num)\n",
    "num_digits = len(num_str)\n",
    "\n",
    "# Calculate the sum of digits raised to the power\n",
    "total = 0\n",
    "for digit in num_str:\n",
    "    total += int(digit) ** num_digits\n",
    "\n",
    "# Check if the number is an Armstrong number\n",
    "if total == num:\n",
    "    print(num, \"is an Armstrong number.\")\n",
    "else:\n",
    "    print(num, \"is not an Armstrong number.\")\n"
   ]
  },
  {
   "cell_type": "code",
   "execution_count": null,
   "id": "6ac83cc7",
   "metadata": {},
   "outputs": [
    {
     "ename": "TypeError",
     "evalue": "object of type 'int' has no len()",
     "output_type": "error",
     "traceback": [
      "\u001b[1;31m---------------------------------------------------------------------------\u001b[0m",
      "\u001b[1;31mTypeError\u001b[0m                                 Traceback (most recent call last)",
      "Cell \u001b[1;32mIn[5], line 4\u001b[0m\n\u001b[0;32m      1\u001b[0m n \u001b[38;5;241m=\u001b[39m \u001b[38;5;28mint\u001b[39m(\u001b[38;5;28minput\u001b[39m(\u001b[38;5;124m\"\u001b[39m\u001b[38;5;124mEnter a number: \u001b[39m\u001b[38;5;124m\"\u001b[39m))\n\u001b[0;32m      3\u001b[0m \u001b[38;5;28;01mfor\u001b[39;00m num \u001b[38;5;129;01min\u001b[39;00m \u001b[38;5;28mrange\u001b[39m(\u001b[38;5;241m1\u001b[39m, n):\n\u001b[1;32m----> 4\u001b[0m     power \u001b[38;5;241m=\u001b[39m \u001b[38;5;28;43mlen\u001b[39;49m\u001b[43m(\u001b[49m\u001b[43mnum\u001b[49m\u001b[43m)\u001b[49m\n\u001b[0;32m      5\u001b[0m     total \u001b[38;5;241m=\u001b[39m \u001b[38;5;28msum\u001b[39m(\u001b[38;5;28mint\u001b[39m(d)\u001b[38;5;241m*\u001b[39m\u001b[38;5;241m*\u001b[39mpower \u001b[38;5;28;01mfor\u001b[39;00m d \u001b[38;5;129;01min\u001b[39;00m \u001b[38;5;28mstr\u001b[39m(num))\n\u001b[0;32m      6\u001b[0m     \u001b[38;5;28;01mif\u001b[39;00m total \u001b[38;5;241m==\u001b[39m num:\n",
      "\u001b[1;31mTypeError\u001b[0m: object of type 'int' has no len()"
     ]
    }
   ],
   "source": [
    "n = int(input(\"Enter a number: \"))\n",
    "\n",
    "for num in range(1, n):\n",
    "    power = len(str(num))\n",
    "    total = sum(int(d)**power for d in str(num))\n",
    "    if total == num:\n",
    "        print(num)\n"
   ]
  },
  {
   "cell_type": "code",
   "execution_count": 7,
   "id": "775e617e",
   "metadata": {},
   "outputs": [
    {
     "name": "stdout",
     "output_type": "stream",
     "text": [
      "7 is a prime number.\n"
     ]
    }
   ],
   "source": [
    "# Prime Number Checker\n",
    "\n",
    "num = int(input(\"Enter a number: \"))\n",
    "\n",
    "# Check if the number is greater than 1\n",
    "if num > 1:\n",
    "    for i in range(2, num):\n",
    "        if num % i == 0:\n",
    "            print(num, \"is not a prime number.\")\n",
    "            break\n",
    "    else:\n",
    "        print(num, \"is a prime number.\")\n",
    "else:\n",
    "    print(num, \"is not a prime number.\")\n"
   ]
  },
  {
   "cell_type": "code",
   "execution_count": 6,
   "id": "b6116227",
   "metadata": {},
   "outputs": [
    {
     "name": "stdout",
     "output_type": "stream",
     "text": [
      "Reversed number: 654321\n"
     ]
    }
   ],
   "source": [
    "def reverse_number(num):\n",
    "    reversed_num = 0\n",
    "    while num > 0:\n",
    "        reversed_num = reversed_num * 10 + num % 10\n",
    "        num //= 10\n",
    "    return reversed_num\n",
    "\n",
    "n = int(input(\"Enter a number: \"))\n",
    "print(\"Reversed number:\", reverse_number(n))\n"
   ]
  },
  {
   "cell_type": "code",
   "execution_count": null,
   "id": "d64bac6d",
   "metadata": {},
   "outputs": [],
   "source": [
    "# Perfect Number Checker\n",
    "\n",
    "num = int(input(\"Enter a number: \"))\n",
    "\n",
    "sum_of_divisors = 0\n",
    "\n",
    "# Find all divisors and calculate their sum\n",
    "for i in range(1, num):\n",
    "    if num % i == 0:\n",
    "        sum_of_divisors += i\n",
    "\n",
    "# Check if the number is perfect\n",
    "if sum_of_divisors == num:\n",
    "    print(num, \"is a Perfect Number.\")\n",
    "else:\n",
    "    print(num, \"is not a Perfect Number.\")\n"
   ]
  },
  {
   "cell_type": "code",
   "execution_count": 2,
   "id": "5970ea49",
   "metadata": {},
   "outputs": [
    {
     "name": "stdout",
     "output_type": "stream",
     "text": [
      "455 is not a Strong Number.\n"
     ]
    }
   ],
   "source": [
    "# Strong Number Checker\n",
    "\n",
    "import math\n",
    "\n",
    "num = int(input(\"Enter a number: \"))\n",
    "original = num\n",
    "sum_of_factorials = 0\n",
    "\n",
    "# Loop through each digit and add factorial\n",
    "while num > 0:\n",
    "    digit = num % 10\n",
    "    sum_of_factorials += math.factorial(digit)\n",
    "    num = num // 10\n",
    "\n",
    "# Check if it's a strong number\n",
    "if sum_of_factorials == original:\n",
    "    print(original, \"is a Strong Number.\")\n",
    "else:\n",
    "    print(original, \"is not a Strong Number.\")\n"
   ]
  },
  {
   "cell_type": "code",
   "execution_count": 3,
   "id": "954f695f",
   "metadata": {},
   "outputs": [
    {
     "data": {
      "text/plain": [
       "120"
      ]
     },
     "execution_count": 3,
     "metadata": {},
     "output_type": "execute_result"
    }
   ],
   "source": [
    "math.factorial(5)"
   ]
  },
  {
   "cell_type": "code",
   "execution_count": 4,
   "id": "7982a437",
   "metadata": {},
   "outputs": [
    {
     "name": "stdout",
     "output_type": "stream",
     "text": [
      "First Max: 60\n"
     ]
    }
   ],
   "source": [
    "lst = [10,23,20,60, 5, 25, 15]\n",
    "\n",
    "max1 = float('-inf')  # Initial value: -infinity\n",
    "\n",
    "for num in lst:\n",
    "    if num > max1:\n",
    "        max1 = num\n",
    "\n",
    "print(\"First Max:\", max1)\n"
   ]
  },
  {
   "cell_type": "code",
   "execution_count": 11,
   "id": "eef0b112",
   "metadata": {},
   "outputs": [
    {
     "name": "stdout",
     "output_type": "stream",
     "text": [
      "List after removing duplicates: [10, 50, 20, 60, 30]\n",
      "Length of sorted set: 5\n",
      "Sorted set: [10, 20, 30, 50, 60]\n",
      " 2 max: 50\n"
     ]
    }
   ],
   "source": [
    "# remove duplicates from a list\n",
    "list1= [10, 20, 30, 20, 10, 50, 60, 50]\n",
    "setlit= set(list1)  # Convert list to set to remove duplicates\n",
    "print(\"List after removing duplicates:\", list(setlit))\n",
    "list2=sorted(setlit)   \n",
    "len(list2)  # Get the length of the sorted set\n",
    "print(\"Length of sorted set:\", len(list2))\n",
    "print(\"Sorted set:\", list2)\n",
    "print(\" 2 max:\", list2[-2])  # Get the second largest element"
   ]
  },
  {
   "cell_type": "code",
   "execution_count": 3,
   "id": "5f3ff6f4",
   "metadata": {},
   "outputs": [
    {
     "name": "stdout",
     "output_type": "stream",
     "text": [
      "[60, 50, 30, 20, 10]\n"
     ]
    }
   ],
   "source": [
    "list1= [10, 20, 30, 20, 10, 50, 60, 50]\n",
    "list2=sorted(set(list1),reverse=True)  # Sort the set to get unique elements in order\n",
    "print(list2)"
   ]
  },
  {
   "cell_type": "code",
   "execution_count": 15,
   "id": "81ff3913",
   "metadata": {},
   "outputs": [
    {
     "name": "stdout",
     "output_type": "stream",
     "text": [
      "[5, 4, 3, 2, 1]\n"
     ]
    }
   ],
   "source": [
    "# lst = [10, 20, 30, 40, 100, 50]\n",
    "\n",
    "# # Print in reverse using loop\n",
    "# for i in range(len(lst) - 1, -1, -1):\n",
    "#     print(lst[i], end=' ')\n",
    "\n",
    "lst = [1, 2, 3, 4, 5]\n",
    "reversed_list = []\n",
    "\n",
    "for i in range(len(lst) - 1, -1, -1):\n",
    "    reversed_list.append(lst[i])\n",
    "\n",
    "print(reversed_list)  # Output: [5, 4, 3, 2, 1]\n"
   ]
  },
  {
   "cell_type": "code",
   "execution_count": 20,
   "id": "e93fc7cd",
   "metadata": {},
   "outputs": [
    {
     "name": "stdout",
     "output_type": "stream",
     "text": [
      "Palindrome String\n"
     ]
    }
   ],
   "source": [
    "s = input(\"Enter a string: \")\n",
    "if s == s[::-1]:\n",
    "    print(\"Palindrome String\")\n",
    "else:\n",
    "    print(\"Not a Palindrome\")\n"
   ]
  },
  {
   "cell_type": "code",
   "execution_count": 19,
   "id": "cccbc90f",
   "metadata": {},
   "outputs": [
    {
     "name": "stdout",
     "output_type": "stream",
     "text": [
      "Palindrome Number\n"
     ]
    }
   ],
   "source": [
    "num = int(input(\"Enter a number: \"))\n",
    "if str(num) == str(num)[::-1]:\n",
    "    print(\"Palindrome Number\")\n",
    "else:\n",
    "    print(\"Not a Palindrome\")\n"
   ]
  }
 ],
 "metadata": {
  "kernelspec": {
   "display_name": "Python 3",
   "language": "python",
   "name": "python3"
  },
  "language_info": {
   "codemirror_mode": {
    "name": "ipython",
    "version": 3
   },
   "file_extension": ".py",
   "mimetype": "text/x-python",
   "name": "python",
   "nbconvert_exporter": "python",
   "pygments_lexer": "ipython3",
   "version": "3.10.0"
  }
 },
 "nbformat": 4,
 "nbformat_minor": 5
}

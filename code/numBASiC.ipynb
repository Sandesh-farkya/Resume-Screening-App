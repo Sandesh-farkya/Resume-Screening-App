{
 "cells": [
  {
   "cell_type": "code",
   "execution_count": 1,
   "metadata": {},
   "outputs": [
    {
     "name": "stdout",
     "output_type": "stream",
     "text": [
      "1. np.array():\n",
      " [1 2 3 4]\n"
     ]
    }
   ],
   "source": [
    "import numpy as np\n",
    "\n",
    "# 1. np.array()\n",
    "arr1 = np.array([1, 2, 3, 4])\n",
    "\n",
    "print(\"1. np.array():\\n\", arr1)\n"
   ]
  },
  {
   "cell_type": "code",
   "execution_count": 2,
   "metadata": {},
   "outputs": [
    {
     "name": "stdout",
     "output_type": "stream",
     "text": [
      "2. np.zeros():\n",
      " [[0. 0. 0.]\n",
      " [0. 0. 0.]]\n"
     ]
    }
   ],
   "source": [
    "# 2. np.zeros()\n",
    "arr2 = np.zeros((2, 3))\n",
    "print(\"2. np.zeros():\\n\", arr2)"
   ]
  },
  {
   "cell_type": "code",
   "execution_count": 3,
   "metadata": {},
   "outputs": [
    {
     "name": "stdout",
     "output_type": "stream",
     "text": [
      "3. np.ones():\n",
      " [[1. 1. 1.]\n",
      " [1. 1. 1.]\n",
      " [1. 1. 1.]]\n"
     ]
    }
   ],
   "source": [
    "# 3. np.ones()\n",
    "arr3 = np.ones((3, 3))\n",
    "print(\"3. np.ones():\\n\", arr3)"
   ]
  },
  {
   "cell_type": "code",
   "execution_count": 4,
   "metadata": {},
   "outputs": [
    {
     "name": "stdout",
     "output_type": "stream",
     "text": [
      "4. np.empty():\n",
      " [[0. 0. 0.]\n",
      " [0. 0. 0.]]\n"
     ]
    }
   ],
   "source": [
    "# 4. np.empty()\n",
    "arr4 = np.empty((2, 3))\n",
    "print(\"4. np.empty():\\n\", arr4)"
   ]
  },
  {
   "cell_type": "code",
   "execution_count": 5,
   "metadata": {},
   "outputs": [
    {
     "name": "stdout",
     "output_type": "stream",
     "text": [
      "5. np.full():\n",
      " [[8 8 8 8 8]\n",
      " [8 8 8 8 8]\n",
      " [8 8 8 8 8]\n",
      " [8 8 8 8 8]\n",
      " [8 8 8 8 8]]\n"
     ]
    }
   ],
   "source": [
    "# 5. np.full()\n",
    "arr5 = np.full((5,5), 8)\n",
    "print(\"5. np.full():\\n\", arr5)\n"
   ]
  },
  {
   "cell_type": "code",
   "execution_count": null,
   "metadata": {},
   "outputs": [],
   "source": [
    "# 6. np.arange()\n",
    "arr6 = np.arange(1, 10, 2)\n",
    "print(\"6. np.arange():\\n\", arr6)\n",
    "\n"
   ]
  },
  {
   "cell_type": "code",
   "execution_count": null,
   "metadata": {},
   "outputs": [],
   "source": [
    "# 7. np.linspace()\n",
    "arr7 = np.linspace(0, 10, 5)\n",
    "print(\"7. np.linspace():\\n\", arr7)"
   ]
  },
  {
   "cell_type": "code",
   "execution_count": null,
   "metadata": {},
   "outputs": [],
   "source": [
    "# 8. np.eye()\n",
    "arr8 = np.eye(3)\n",
    "print(\"8. np.eye():\\n\", arr8)\n"
   ]
  },
  {
   "cell_type": "code",
   "execution_count": null,
   "metadata": {},
   "outputs": [],
   "source": [
    "\n",
    "# 9. np.random.rand()\n",
    "arr9 = np.random.rand(2, 3)\n",
    "print(\"9. np.random.rand():\\n\", arr9)\n",
    "\n",
    "\n"
   ]
  },
  {
   "cell_type": "code",
   "execution_count": null,
   "metadata": {},
   "outputs": [],
   "source": [
    "# 10. np.random.randn()\n",
    "arr10 = np.random.randn(2, 3)\n",
    "print(\"10. np.random.randn():\\n\", arr10)\n",
    "\n"
   ]
  },
  {
   "cell_type": "code",
   "execution_count": null,
   "metadata": {},
   "outputs": [],
   "source": [
    "# 11. np.random.randint()\n",
    "arr11 = np.random.randint(1, 5, size=(5, 5))\n",
    "print(\"11. np.random.randint():\\n\", arr11)\n"
   ]
  },
  {
   "cell_type": "code",
   "execution_count": null,
   "metadata": {},
   "outputs": [],
   "source": [
    "# 12. np.fromfunction()\n",
    "arr12 = np.fromfunction(lambda i, j: i + j, (3, 3))\n",
    "print(\"12. np.fromfunction():\\n\", arr12)\n",
    "\n"
   ]
  },
  {
   "cell_type": "code",
   "execution_count": null,
   "metadata": {},
   "outputs": [],
   "source": [
    "# 13. np.fromiter()\n",
    "arr13 = np.fromiter(range(5), dtype=int)\n",
    "print(\"13. np.fromiter():\\n\", arr13)\n",
    "\n"
   ]
  },
  {
   "cell_type": "code",
   "execution_count": null,
   "metadata": {},
   "outputs": [],
   "source": [
    "# 14. np.fromstring()\n",
    "arr14 = np.fromstring('1 2 3 4 5', sep=' ', dtype=int)\n",
    "print(\"14. np.fromstring():\\n\", arr14)\n"
   ]
  },
  {
   "cell_type": "code",
   "execution_count": null,
   "metadata": {},
   "outputs": [],
   "source": [
    "# 15. np.tile()\n",
    "arr15 = np.tile([1, 2, 3], (2, 2))\n",
    "print(\"15. np.tile():\\n\", arr15)\n",
    "\n"
   ]
  },
  {
   "cell_type": "code",
   "execution_count": null,
   "metadata": {},
   "outputs": [],
   "source": [
    "# 16. np.copy()\n",
    "original = np.array([1, 2, 3])\n",
    "arr16 = np.copy(original)\n",
    "print(\"16. np.copy():\\n\", arr16)\n"
   ]
  },
  {
   "cell_type": "code",
   "execution_count": null,
   "metadata": {},
   "outputs": [],
   "source": [
    "# 17. np.meshgrid()\n",
    "x = np.array([1, 2, 3])\n",
    "y = np.array([4, 5])\n",
    "X, Y = np.meshgrid(x, y)\n",
    "print(\"17. np.meshgrid():\\n\", X, \"\\n\", Y)\n",
    "\n"
   ]
  },
  {
   "cell_type": "code",
   "execution_count": null,
   "metadata": {},
   "outputs": [],
   "source": [
    "# 18. np.diag()\n",
    "arr18 = np.diag([1, 2, 3])\n",
    "print(\"18. np.diag():\\n\", arr18)\n",
    "\n",
    "\n"
   ]
  },
  {
   "cell_type": "code",
   "execution_count": null,
   "metadata": {},
   "outputs": [],
   "source": [
    "# 19. np.indices()\n",
    "arr19 = np.indices((2, 3))\n",
    "print(\"19. np.indices():\\n\", arr19)\n",
    "\n",
    "\n"
   ]
  },
  {
   "cell_type": "code",
   "execution_count": null,
   "metadata": {},
   "outputs": [],
   "source": [
    "# 20. np.concatenate()\n",
    "a = np.array([1, 2])\n",
    "b = np.array([3, 4])\n",
    "arr20 = np.concatenate((a, b))\n",
    "print(\"20. np.concatenate():\\n\", arr20)"
   ]
  }
 ],
 "metadata": {
  "kernelspec": {
   "display_name": "Python 3",
   "language": "python",
   "name": "python3"
  },
  "language_info": {
   "codemirror_mode": {
    "name": "ipython",
    "version": 3
   },
   "file_extension": ".py",
   "mimetype": "text/x-python",
   "name": "python",
   "nbconvert_exporter": "python",
   "pygments_lexer": "ipython3",
   "version": "3.10.0"
  }
 },
 "nbformat": 4,
 "nbformat_minor": 2
}

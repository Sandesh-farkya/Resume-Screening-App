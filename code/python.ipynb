{
 "cells": [
  {
   "cell_type": "code",
   "execution_count": null,
   "metadata": {},
   "outputs": [
    {
     "name": "stdout",
     "output_type": "stream",
     "text": [
      "Prime numbers up to 10 are:\n"
     ]
    }
   ],
   "source": [
    "# def is_prime(n):\n",
    "#     if n < 2:\n",
    "#         return False\n",
    "#     for i in range(2, int(n ** 0.5) + 1):\n",
    "#         if n % i == 0:\n",
    "#             return False\n",
    "#     return True\n",
    "\n",
    "# num = int(input(\"Enter a number: \"))\n",
    "# if is_prime(num):\n",
    "#     print(f\"{num} is a prime number.\")\n",
    "# else:\n",
    "#     print(f\"{num} is not a prime number.\")\n",
    "\n",
    "\n",
    "def is_prime(num):\n",
    "    if num < 2:\n",
    "        return False\n",
    "    for i in range(2, int(num ** 0.5) + 1):  \n",
    "        if num % i == 0:\n",
    "            return False\n",
    "    return True\n",
    "\n",
    "\n",
    "def print_primes(n):\n",
    "    for num in range(2, n + 1):\n",
    "        if is_prime(num):\n",
    "            print(num, end=\" \")\n",
    "\n",
    "# Example: Print Prime Numbers up to 50\n",
    "n = int(input(\"Enter a number: \"))\n",
    "print(\"Prime numbers up to\", n, \"are:\")\n",
    "print_primes(n)\n"
   ]
  },
  {
   "cell_type": "code",
   "execution_count": 9,
   "metadata": {},
   "outputs": [
    {
     "name": "stdout",
     "output_type": "stream",
     "text": [
      "28 is a perfect number.\n"
     ]
    }
   ],
   "source": [
    "def perfect(n):\n",
    "    sum = 0\n",
    "    for i in range(1, n):\n",
    "        if n % i == 0:\n",
    "            sum += i\n",
    "    return sum == n\n",
    "\n",
    "\n",
    "num = int(input(\"Enter a number: \"))\n",
    "if perfect(num):\n",
    "    print(f\"{num} is a perfect number.\")\n",
    "else:\n",
    "    print(f\"{num} is not a perfect number.\")"
   ]
  },
  {
   "cell_type": "code",
   "execution_count": 12,
   "metadata": {},
   "outputs": [
    {
     "name": "stdout",
     "output_type": "stream",
     "text": [
      "371 is an Armstrong number.\n"
     ]
    }
   ],
   "source": [
    "def is_armstrong(n):\n",
    "    num_str = str(n)\n",
    "    num_digits = len(num_str)\n",
    "    sum_of_powers = sum(int(digit) ** num_digits for digit in num_str)\n",
    "    \n",
    "    return sum_of_powers == n\n",
    "\n",
    "# Example usage\n",
    "num = int(input(\"Enter a number: \"))\n",
    "if is_armstrong(num):\n",
    "    print(f\"{num} is an Armstrong number.\")\n",
    "else:\n",
    "    print(f\"{num} is not an Armstrong number.\")\n"
   ]
  },
  {
   "cell_type": "code",
   "execution_count": 14,
   "metadata": {},
   "outputs": [
    {
     "name": "stdout",
     "output_type": "stream",
     "text": [
      "Reversed number: 201\n"
     ]
    }
   ],
   "source": [
    "def reverse_number(n):\n",
    "    reversed_num = 0\n",
    "    while n > 0:\n",
    "        digit = n % 10\n",
    "        reversed_num = reversed_num * 10 + digit\n",
    "        n //= 10\n",
    "    return reversed_num\n",
    "\n",
    "num = int(input(\"Enter a number: \"))\n",
    "print(\"Reversed number:\", reverse_number(num))\n"
   ]
  },
  {
   "cell_type": "code",
   "execution_count": null,
   "metadata": {},
   "outputs": [
    {
     "name": "stdout",
     "output_type": "stream",
     "text": [
      "145 is a Strong number.\n"
     ]
    }
   ],
   "source": [
    "import math\n",
    "\n",
    "def is_strong(n):\n",
    "    sum_of_factorials = sum(math.factorial(int(digit)) for digit in str(n))\n",
    "    return sum_of_factorials == n\n",
    "\n",
    "num = int(input(\"Enter a number: \"))\n",
    "if is_strong(num):\n",
    "    print(f\"{num} is a Strong number.\")\n",
    "else:\n",
    "    print(f\"{num} is not a Strong number.\")\n"
   ]
  },
  {
   "cell_type": "code",
   "execution_count": null,
   "metadata": {},
   "outputs": [
    {
     "name": "stdout",
     "output_type": "stream",
     "text": [
      "Second maximum: 50\n"
     ]
    }
   ],
   "source": [
    "\n",
    "# san = [1, 50, 6, 7, 84, 84, 25,6, 5, 4]\n",
    "# # Find the second maximum number\n",
    "# second_max = sorted(set(san), reverse=True)[1]\n",
    "\n",
    "# print(\"Second maximum:\", second_max)\n",
    "\n",
    "\n",
    "# san = [1, 21, 6, 7, 84, 84, 25, 6, 5, 4]\n",
    "\n",
    "# max1 = max2 = float('-inf')  # Initialize with very small value\n",
    "\n",
    "# for num in san:\n",
    "#     if num > max1:\n",
    "#         max2, max1 = max1, num\n",
    "#     elif max1 > num > max2:  # Ensure second max is smaller than max1\n",
    "#         max2 = num\n",
    "\n",
    "# print(\"Second maximum:\", max2)\n"
   ]
  },
  {
   "cell_type": "code",
   "execution_count": 5,
   "metadata": {},
   "outputs": [
    {
     "name": "stdout",
     "output_type": "stream",
     "text": [
      "0 1 1 2 3 5 8 "
     ]
    }
   ],
   "source": [
    "# def func():\n",
    "#     a,*b,c=[\"a\",\"b\",\"c\"]\n",
    "#     return \"b\" in [b]or a[:]\n",
    "# print(func())\n",
    "\n",
    "# fibonacci series to n\n",
    "\n",
    "# def fibonacci(n):\n",
    "#     a, b = 0, 1\n",
    "#     while a <= n:\n",
    "#         print(a, end=\" \")\n",
    "#         a, b = b, a + b\n",
    "\n",
    "# n = int(input(\"Enter the value of n: \"))\n",
    "# fibonacci(n)\n",
    "\n",
    "def fibonacci_recursive(n, a=0, b=1):\n",
    "    if a > n:\n",
    "        return\n",
    "    print(a, end=\" \")\n",
    "    fibonacci_recursive(n, b, a + b)\n",
    "\n",
    "n = int(input(\"Enter the value of n: \"))\n",
    "fibonacci_recursive(n)\n"
   ]
  },
  {
   "cell_type": "code",
   "execution_count": 1,
   "metadata": {},
   "outputs": [
    {
     "name": "stdout",
     "output_type": "stream",
     "text": [
      "Even numbers: 2 4 \n",
      "Odd numbers: 1 3 5 "
     ]
    }
   ],
   "source": [
    "# n = int(input(\"Enter a number: \"))  # User input\n",
    "# for i in range(1, n + 1, 2):\n",
    "#     print(i, end=\" \")\n",
    " \n",
    " \n",
    "n = int(input(\"Enter a number: \"))\n",
    "\n",
    "print(\"Even numbers:\", end=\" \")\n",
    "for i in range(1, n + 1):\n",
    "    if i % 2 == 0:  # Check if number is even\n",
    "        print(i, end=\" \")\n",
    "\n",
    "print(\"\\nOdd numbers:\", end=\" \")\n",
    "for i in range(1, n + 1):\n",
    "    if i % 2 != 0:  # Check if number is odd\n",
    "        print(i, end=\" \")\n",
    "\n"
   ]
  },
  {
   "cell_type": "code",
   "execution_count": 3,
   "metadata": {},
   "outputs": [
    {
     "name": "stdout",
     "output_type": "stream",
     "text": [
      "llistin and sineedn are not anagrams.\n"
     ]
    }
   ],
   "source": [
    "# anagram\n",
    "def are_anagrams(str1, str2):\n",
    "    return sorted(str1) == sorted(str2)\n",
    "\n",
    "\n",
    "str1 = input(\"Enter first string: \")\n",
    "str2 = input(\"Enter second string: \")\n",
    "    \n",
    "if are_anagrams(str1, str2):\n",
    "    print(f\"{str1} and {str2} are anagrams.\")\n",
    "else:\n",
    "    print(f\"{str1} and {str2} are not anagrams.\")"
   ]
  }
 ],
 "metadata": {
  "kernelspec": {
   "display_name": "Python 3",
   "language": "python",
   "name": "python3"
  },
  "language_info": {
   "codemirror_mode": {
    "name": "ipython",
    "version": 3
   },
   "file_extension": ".py",
   "mimetype": "text/x-python",
   "name": "python",
   "nbconvert_exporter": "python",
   "pygments_lexer": "ipython3",
   "version": "3.10.0"
  }
 },
 "nbformat": 4,
 "nbformat_minor": 2
}

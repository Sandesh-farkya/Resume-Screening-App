{
 "cells": [
  {
   "cell_type": "code",
   "execution_count": 23,
   "metadata": {},
   "outputs": [
    {
     "name": "stdout",
     "output_type": "stream",
     "text": [
      " Sure, here is an example of the \"Hello World\" code in PHP:\n",
      "```\n",
      "<?php\n",
      "echo \"Hello World!\";\n",
      "?>\n",
      "```\n",
      "You can save this code in a file with a .php extension and run it using a web server.\n",
      "\n",
      "This will output \"Hello World!\" when you access the page in your web browser.\n",
      "\n",
      "If you want to print something different, just replace \"Hello World!\" with whatever message you want to display. \n"
     ]
    }
   ],
   "source": [
    "import ollama\n",
    "\n",
    "response = ollama.chat(model='llava:7b', messages=[{'role': 'user', 'content': 'hello world code in php ?'}])\n",
    "print(response['message']['content'])\n"
   ]
  }
 ],
 "metadata": {
  "kernelspec": {
   "display_name": "Python 3",
   "language": "python",
   "name": "python3"
  },
  "language_info": {
   "codemirror_mode": {
    "name": "ipython",
    "version": 3
   },
   "file_extension": ".py",
   "mimetype": "text/x-python",
   "name": "python",
   "nbconvert_exporter": "python",
   "pygments_lexer": "ipython3",
   "version": "3.10.0"
  }
 },
 "nbformat": 4,
 "nbformat_minor": 2
}

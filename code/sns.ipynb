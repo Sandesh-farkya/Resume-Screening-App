{
 "cells": [
  {
   "cell_type": "code",
   "execution_count": null,
   "metadata": {},
   "outputs": [],
   "source": [
    "import seaborn as sns\n",
    "import matplotlib.pyplot as plt\n",
    "\n",
    "# Load example dataset\n",
    "data = sns.load_dataset('iris')\n",
    "print(data)\n",
    "# Set theme\n",
    "sns.set_theme(style=\"whitegrid\")"
   ]
  },
  {
   "cell_type": "code",
   "execution_count": null,
   "metadata": {},
   "outputs": [],
   "source": [
    "# Scatter Plot\n",
    "plt.figure(figsize=(12, 8))\n",
    "sns.scatterplot(x='sepal_length', y='sepal_width', data=data, hue='species', style='species')\n",
    "plt.title(\"Scatter Plot\")\n",
    "plt.show()"
   ]
  },
  {
   "cell_type": "code",
   "execution_count": null,
   "metadata": {},
   "outputs": [],
   "source": [
    "# Line Plot\n",
    "plt.figure(figsize=(12, 8))\n",
    "sns.lineplot(x='sepal_length', y='sepal_width', data=data, hue='species')\n",
    "plt.title(\"Line Plot\")\n",
    "plt.show()\n"
   ]
  },
  {
   "cell_type": "code",
   "execution_count": null,
   "metadata": {},
   "outputs": [],
   "source": [
    "# Histogram\n",
    "plt.figure(figsize=(12, 8))\n",
    "sns.histplot(data['sepal_length'], kde=True, bins=20, color='skyblue')\n",
    "plt.title(\"Histogram\")\n",
    "plt.show()"
   ]
  },
  {
   "cell_type": "code",
   "execution_count": null,
   "metadata": {},
   "outputs": [],
   "source": [
    "# Bar Plot\n",
    "plt.figure(figsize=(12, 8))\n",
    "sns.barplot(x='species', y='sepal_length', data=data, ci=None, palette=\"muted\")\n",
    "plt.title(\"Bar Plot\")\n",
    "plt.show()\n"
   ]
  },
  {
   "cell_type": "code",
   "execution_count": null,
   "metadata": {},
   "outputs": [],
   "source": [
    "# Box Plot\n",
    "plt.figure(figsize=(12, 8))\n",
    "sns.boxplot(x='species', y='sepal_length', data=data, palette=\"coolwarm\")\n",
    "plt.title(\"Box Plot\")\n",
    "plt.show()\n"
   ]
  },
  {
   "cell_type": "code",
   "execution_count": null,
   "metadata": {},
   "outputs": [],
   "source": [
    "\n",
    "# Violin Plot\n",
    "plt.figure(figsize=(12, 8))\n",
    "sns.violinplot(x='species', y='sepal_length', data=data, palette=\"Set2\")\n",
    "plt.title(\"Violin Plot\")\n",
    "plt.show()"
   ]
  },
  {
   "cell_type": "code",
   "execution_count": null,
   "metadata": {},
   "outputs": [],
   "source": [
    "# Heatmap (using correlation of numerical columns)\n",
    "plt.figure(figsize=(10, 6))\n",
    "corr = data.drop('species', axis=1).corr()\n",
    "sns.heatmap(corr, annot=True, cmap='coolwarm', linewidths=0.5)\n",
    "plt.title(\"Heatmap of Correlation Matrix\")\n",
    "plt.show()"
   ]
  },
  {
   "cell_type": "code",
   "execution_count": null,
   "metadata": {},
   "outputs": [],
   "source": [
    "# Pair Plot\n",
    "sns.pairplot(data, hue='species', height=2.5, palette=\"husl\")\n",
    "plt.suptitle(\"Pair Plot\", y=1.02)\n",
    "plt.show()"
   ]
  },
  {
   "cell_type": "code",
   "execution_count": null,
   "metadata": {},
   "outputs": [],
   "source": [
    "# Regression Plot\n",
    "plt.figure(figsize=(12, 8))\n",
    "sns.regplot(x='sepal_length', y='sepal_width', data=data, scatter_kws={'color': 'blue'}, line_kws={'color': 'red'})\n",
    "plt.title(\"Regression Plot\")\n",
    "plt.show()"
   ]
  },
  {
   "cell_type": "code",
   "execution_count": null,
   "metadata": {},
   "outputs": [],
   "source": [
    "# Categorical Plot\n",
    "sns.catplot(x='species', y='sepal_length', data=data, kind='swarm', height=6, aspect=1.5, palette=\"muted\")\n",
    "plt.suptitle(\"Categorical Plot\", y=1.02)\n",
    "plt.show()"
   ]
  }
 ],
 "metadata": {
  "kernelspec": {
   "display_name": "Python 3",
   "language": "python",
   "name": "python3"
  },
  "language_info": {
   "codemirror_mode": {
    "name": "ipython",
    "version": 3
   },
   "file_extension": ".py",
   "mimetype": "text/x-python",
   "name": "python",
   "nbconvert_exporter": "python",
   "pygments_lexer": "ipython3",
   "version": "3.10.0"
  }
 },
 "nbformat": 4,
 "nbformat_minor": 2
}
